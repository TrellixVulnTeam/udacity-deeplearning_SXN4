{
 "cells": [
  {
   "cell_type": "markdown",
   "metadata": {
    "collapsed": true
   },
   "source": [
    "# 图像分类\n",
    "\n",
    "在此项目中，你将对 [CIFAR-10 数据集](https://www.cs.toronto.edu/~kriz/cifar.html) 中的图片进行分类。该数据集包含飞机、猫狗和其他物体。你需要预处理这些图片，然后用所有样本训练一个卷积神经网络。图片需要标准化（normalized），标签需要采用 one-hot 编码。你需要应用所学的知识构建卷积的、最大池化（max pooling）、丢弃（dropout）和完全连接（fully connected）的层。最后，你需要在样本图片上看到神经网络的预测结果。\n",
    "\n",
    "\n",
    "## 获取数据\n",
    "\n",
    "请运行以下单元，以下载 [CIFAR-10 数据集（Python版）](https://www.cs.toronto.edu/~kriz/cifar-10-python.tar.gz)。\n"
   ]
  },
  {
   "cell_type": "code",
   "execution_count": 1,
   "metadata": {},
   "outputs": [
    {
     "name": "stdout",
     "output_type": "stream",
     "text": [
      "All files found!\n"
     ]
    }
   ],
   "source": [
    "\"\"\"\n",
    "DON'T MODIFY ANYTHING IN THIS CELL THAT IS BELOW THIS LINE\n",
    "\"\"\"\n",
    "from urllib.request import urlretrieve\n",
    "from os.path import isfile, isdir\n",
    "from tqdm import tqdm\n",
    "import problem_unittests as tests\n",
    "import tarfile\n",
    "\n",
    "cifar10_dataset_folder_path = 'cifar-10-batches-py'\n",
    "\n",
    "# Use Floyd's cifar-10 dataset if present\n",
    "floyd_cifar10_location = '/input/cifar-10/python.tar.gz'\n",
    "if isfile(floyd_cifar10_location):\n",
    "    tar_gz_path = floyd_cifar10_location\n",
    "else:\n",
    "    tar_gz_path = 'cifar-10-python.tar.gz'\n",
    "\n",
    "class DLProgress(tqdm):\n",
    "    last_block = 0\n",
    "\n",
    "    def hook(self, block_num=1, block_size=1, total_size=None):\n",
    "        self.total = total_size\n",
    "        self.update((block_num - self.last_block) * block_size)\n",
    "        self.last_block = block_num\n",
    "\n",
    "if not isfile(tar_gz_path):\n",
    "    with DLProgress(unit='B', unit_scale=True, miniters=1, desc='CIFAR-10 Dataset') as pbar:\n",
    "        urlretrieve(\n",
    "            'https://www.cs.toronto.edu/~kriz/cifar-10-python.tar.gz',\n",
    "            tar_gz_path,\n",
    "            pbar.hook)\n",
    "\n",
    "if not isdir(cifar10_dataset_folder_path):\n",
    "    with tarfile.open(tar_gz_path) as tar:\n",
    "        tar.extractall()\n",
    "        tar.close()\n",
    "\n",
    "\n",
    "tests.test_folder_path(cifar10_dataset_folder_path)"
   ]
  },
  {
   "cell_type": "markdown",
   "metadata": {},
   "source": [
    "## 探索数据\n",
    "\n",
    "该数据集分成了几部分／批次（batches），以免你的机器在计算时内存不足。CIFAR-10 数据集包含 5 个部分，名称分别为 `data_batch_1`、`data_batch_2`，以此类推。每个部分都包含以下某个类别的标签和图片：\n",
    "\n",
    "* 飞机\n",
    "* 汽车\n",
    "* 鸟类\n",
    "* 猫\n",
    "* 鹿\n",
    "* 狗\n",
    "* 青蛙\n",
    "* 马\n",
    "* 船只\n",
    "* 卡车\n",
    "\n",
    "了解数据集也是对数据进行预测的必经步骤。你可以通过更改 `batch_id` 和 `sample_id` 探索下面的代码单元。`batch_id` 是数据集一个部分的 ID（1 到 5）。`sample_id` 是该部分中图片和标签对（label pair）的 ID。\n",
    "\n",
    "问问你自己：“可能的标签有哪些？”、“图片数据的值范围是多少？”、“标签是按顺序排列，还是随机排列的？”。思考类似的问题，有助于你预处理数据，并使预测结果更准确。\n"
   ]
  },
  {
   "cell_type": "code",
   "execution_count": 2,
   "metadata": {},
   "outputs": [
    {
     "name": "stdout",
     "output_type": "stream",
     "text": [
      "\n",
      "Stats of batch 1:\n",
      "Samples: 10000\n",
      "Label Counts: {0: 1005, 1: 974, 2: 1032, 3: 1016, 4: 999, 5: 937, 6: 1030, 7: 1001, 8: 1025, 9: 981}\n",
      "First 20 Labels: [6, 9, 9, 4, 1, 1, 2, 7, 8, 3, 4, 7, 7, 2, 9, 9, 9, 3, 2, 6]\n",
      "\n",
      "Example of Image 5:\n",
      "Image - Min Value: 0 Max Value: 252\n",
      "Image - Shape: (32, 32, 3)\n",
      "Label - Label Id: 1 Name: automobile\n"
     ]
    },
    {
     "data": {
      "image/png": "[encoded data removed]",
      "text/plain": [
       "<matplotlib.figure.Figure at 0x11c016fd0>"
      ]
     },
     "metadata": {
      "image/png": {
       "height": 250,
       "width": 253
      }
     },
     "output_type": "display_data"
    }
   ],
   "source": [
    "%matplotlib inline\n",
    "%config InlineBackend.figure_format = 'retina'\n",
    "\n",
    "import helper\n",
    "import numpy as np\n",
    "\n",
    "# Explore the dataset\n",
    "batch_id = 1\n",
    "sample_id = 5\n",
    "helper.display_stats(cifar10_dataset_folder_path, batch_id, sample_id)"
   ]
  },
  {
   "cell_type": "markdown",
   "metadata": {},
   "source": [
    "## 实现预处理函数\n",
    "\n",
    "### 标准化\n",
    "\n",
    "在下面的单元中，实现 `normalize` 函数，传入图片数据 `x`，并返回标准化 Numpy 数组。值应该在 0 到 1 的范围内（含 0 和 1）。返回对象应该和 `x` 的形状一样。\n"
   ]
  },
  {
   "cell_type": "code",
   "execution_count": 3,
   "metadata": {},
   "outputs": [
    {
     "name": "stdout",
     "output_type": "stream",
     "text": [
      "Tests Passed\n"
     ]
    }
   ],
   "source": [
    "def normalize(x):\n",
    "    \"\"\"\n",
    "    Normalize a list of sample image data in the range of 0 to 1\n",
    "    : x: List of image data.  The image shape is (32, 32, 3)\n",
    "    : return: Numpy array of normalize data\n",
    "    \"\"\"\n",
    "    # TODO: Implement Function\n",
    "    return x / 255\n",
    "\n",
    "\n",
    "\"\"\"\n",
    "DON'T MODIFY ANYTHING IN THIS CELL THAT IS BELOW THIS LINE\n",
    "\"\"\"\n",
    "tests.test_normalize(normalize)"
   ]
  },
  {
   "cell_type": "markdown",
   "metadata": {},
   "source": [
    "### One-hot 编码\n",
    "\n",
    "和之前的代码单元一样，你将为预处理实现一个函数。这次，你将实现 `one_hot_encode` 函数。输入，也就是 `x`，是一个标签列表。实现该函数，以返回为 one_hot 编码的 Numpy 数组的标签列表。标签的可能值为 0 到 9。每次调用 `one_hot_encode` 时，对于每个值，one_hot 编码函数应该返回相同的编码。确保将编码映射保存到该函数外面。\n",
    "\n",
    "提示：不要重复发明轮子。\n"
   ]
  },
  {
   "cell_type": "code",
   "execution_count": 4,
   "metadata": {},
   "outputs": [
    {
     "name": "stdout",
     "output_type": "stream",
     "text": [
      "Tests Passed\n"
     ]
    }
   ],
   "source": [
    "def one_hot_encode(x):\n",
    "    \"\"\"\n",
    "    One hot encode a list of sample labels. Return a one-hot encoded vector for each label.\n",
    "    : x: List of sample Labels\n",
    "    : return: Numpy array of one-hot encoded labels\n",
    "    \"\"\"\n",
    "    height = len(x)\n",
    "    width = 10\n",
    "    res = np.zeros((height, width))\n",
    "    res[np.arange(height), x] = 1\n",
    "    return res\n",
    "\n",
    "\n",
    "\"\"\"\n",
    "DON'T MODIFY ANYTHING IN THIS CELL THAT IS BELOW THIS LINE\n",
    "\"\"\"\n",
    "tests.test_one_hot_encode(one_hot_encode)"
   ]
  },
  {
   "cell_type": "markdown",
   "metadata": {},
   "source": [
    "### 随机化数据\n",
    "\n",
    "之前探索数据时，你已经了解到，样本的顺序是随机的。再随机化一次也不会有什么关系，但是对于这个数据集没有必要。\n"
   ]
  },
  {
   "cell_type": "markdown",
   "metadata": {},
   "source": [
    "## 预处理所有数据并保存\n",
    "\n",
    "运行下方的代码单元，将预处理所有 CIFAR-10 数据，并保存到文件中。下面的代码还使用了 10% 的训练数据，用来验证。\n"
   ]
  },
  {
   "cell_type": "code",
   "execution_count": 5,
   "metadata": {
    "collapsed": true
   },
   "outputs": [],
   "source": [
    "\"\"\"\n",
    "DON'T MODIFY ANYTHING IN THIS CELL\n",
    "\"\"\"\n",
    "# Preprocess Training, Validation, and Testing Data\n",
    "helper.preprocess_and_save_data(cifar10_dataset_folder_path, normalize, one_hot_encode)"
   ]
  },
  {
   "cell_type": "markdown",
   "metadata": {},
   "source": [
    "# 检查点\n",
    "\n",
    "这是你的第一个检查点。如果你什么时候决定再回到该记事本，或需要重新启动该记事本，你可以从这里开始。预处理的数据已保存到本地。\n"
   ]
  },
  {
   "cell_type": "code",
   "execution_count": 6,
   "metadata": {
    "collapsed": true
   },
   "outputs": [],
   "source": [
    "\"\"\"\n",
    "DON'T MODIFY ANYTHING IN THIS CELL\n",
    "\"\"\"\n",
    "import pickle\n",
    "import problem_unittests as tests\n",
    "import helper\n",
    "\n",
    "# Load the Preprocessed Validation data\n",
    "valid_features, valid_labels = pickle.load(open('preprocess_validation.p', mode='rb'))"
   ]
  },
  {
   "cell_type": "markdown",
   "metadata": {},
   "source": [
    "## 构建网络\n",
    "\n",
    "对于该神经网络，你需要将每层都构建为一个函数。你看到的大部分代码都位于函数外面。要更全面地测试你的代码，我们需要你将每层放入一个函数中。这样使我们能够提供更好的反馈，并使用我们的统一测试检测简单的错误，然后再提交项目。\n",
    "\n",
    ">**注意**：如果你觉得每周很难抽出足够的时间学习这门课程，我们为此项目提供了一个小捷径。对于接下来的几个问题，你可以使用 [TensorFlow Layers](https://www.tensorflow.org/api_docs/python/tf/layers) 或 [TensorFlow Layers (contrib)](https://www.tensorflow.org/api_guides/python/contrib.layers) 程序包中的类来构建每个层级，但是“卷积和最大池化层级”部分的层级除外。TF Layers 和 Keras 及 TFLearn 层级类似，因此很容易学会。\n",
    "\n",
    ">但是，如果你想充分利用这门课程，请尝试自己解决所有问题，不使用 TF Layers 程序包中的任何类。你依然可以使用其他程序包中的类，这些类和你在 TF Layers 中的类名称是一样的！例如，你可以使用 TF Neural Network 版本的 `conv2d` 类 [tf.nn.conv2d](https://www.tensorflow.org/api_docs/python/tf/nn/conv2d)，而不是 TF Layers 版本的 `conv2d` 类 [tf.layers.conv2d](https://www.tensorflow.org/api_docs/python/tf/layers/conv2d)。\n",
    "\n",
    "我们开始吧！\n",
    "\n",
    "\n",
    "### 输入\n",
    "\n",
    "神经网络需要读取图片数据、one-hot 编码标签和丢弃保留概率（dropout keep probability）。请实现以下函数：\n",
    "\n",
    "* 实现 `neural_net_image_input`\n",
    " * 返回 [TF Placeholder](https://www.tensorflow.org/api_docs/python/tf/placeholder)\n",
    " * 使用 `image_shape` 设置形状，部分大小设为 `None`\n",
    " * 使用 [TF Placeholder](https://www.tensorflow.org/api_docs/python/tf/placeholder) 中的 TensorFlow `name` 参数对 TensorFlow 占位符 \"x\" 命名\n",
    "* 实现 `neural_net_label_input`\n",
    " * 返回 [TF Placeholder](https://www.tensorflow.org/api_docs/python/tf/placeholder)\n",
    " * 使用 `n_classes` 设置形状，部分大小设为 `None`\n",
    " * 使用 [TF Placeholder](https://www.tensorflow.org/api_docs/python/tf/placeholder) 中的 TensorFlow `name` 参数对 TensorFlow 占位符 \"y\" 命名\n",
    "* 实现 `neural_net_keep_prob_input`\n",
    " * 返回 [TF Placeholder](https://www.tensorflow.org/api_docs/python/tf/placeholder)，用于丢弃保留概率\n",
    " * 使用 [TF Placeholder](https://www.tensorflow.org/api_docs/python/tf/placeholder) 中的 TensorFlow `name` 参数对 TensorFlow 占位符 \"keep_prob\" 命名\n",
    "\n",
    "这些名称将在项目结束时，用于加载保存的模型。\n",
    "\n",
    "注意：TensorFlow 中的 `None` 表示形状可以是动态大小。"
   ]
  },
  {
   "cell_type": "code",
   "execution_count": 7,
   "metadata": {},
   "outputs": [
    {
     "name": "stdout",
     "output_type": "stream",
     "text": [
      "Image Input Tests Passed.\n",
      "Label Input Tests Passed.\n",
      "Keep Prob Tests Passed.\n"
     ]
    }
   ],
   "source": [
    "import tensorflow as tf\n",
    "\n",
    "def neural_net_image_input(image_shape):\n",
    "    \"\"\"\n",
    "    Return a Tensor for a batch of image input\n",
    "    : image_shape: Shape of the images\n",
    "    : return: Tensor for image input.\n",
    "    \"\"\"\n",
    "    # TODO: Implement Function\n",
    "    return tf.placeholder(tf.float32,shape=(None,*image_shape),name=\"x\")\n",
    "\n",
    "\n",
    "def neural_net_label_input(n_classes):\n",
    "    \"\"\"\n",
    "    Return a Tensor for a batch of label input\n",
    "    : n_classes: Number of classes\n",
    "    : return: Tensor for label input.\n",
    "    \"\"\"\n",
    "    # TODO: Implement Function\n",
    "    return tf.placeholder(tf.int32,shape=(None,n_classes),name=\"y\")\n",
    "\n",
    "\n",
    "def neural_net_keep_prob_input():\n",
    "    \"\"\"\n",
    "    Return a Tensor for keep probability\n",
    "    : return: Tensor for keep probability.\n",
    "    \"\"\"\n",
    "    # TODO: Implement Function\n",
    "    return tf.placeholder(tf.float32,name=\"keep_prob\")\n",
    "\n",
    "\n",
    "\"\"\"\n",
    "DON'T MODIFY ANYTHING IN THIS CELL THAT IS BELOW THIS LINE\n",
    "\"\"\"\n",
    "tf.reset_default_graph()\n",
    "tests.test_nn_image_inputs(neural_net_image_input)\n",
    "tests.test_nn_label_inputs(neural_net_label_input)\n",
    "tests.test_nn_keep_prob_inputs(neural_net_keep_prob_input)"
   ]
  },
  {
   "cell_type": "markdown",
   "metadata": {},
   "source": [
    "### 卷积和最大池化层\n",
    "\n",
    "卷积层级适合处理图片。对于此代码单元，你应该实现函数 `conv2d_maxpool` 以便应用卷积然后进行最大池化：\n",
    "\n",
    "* 使用 `conv_ksize`、`conv_num_outputs` 和 `x_tensor` 的形状创建权重（weight）和偏置（bias）。\n",
    "* 使用权重和 `conv_strides` 对 `x_tensor` 应用卷积。\n",
    " * 建议使用我们建议的间距（padding），当然也可以使用任何其他间距。\n",
    "* 添加偏置\n",
    "* 向卷积中添加非线性激活（nonlinear activation）\n",
    "* 使用 `pool_ksize` 和 `pool_strides` 应用最大池化\n",
    " * 建议使用我们建议的间距（padding），当然也可以使用任何其他间距。\n",
    "\n",
    "**注意**：对于**此层**，**请勿使用** [TensorFlow Layers](https://www.tensorflow.org/api_docs/python/tf/layers) 或 [TensorFlow Layers (contrib)](https://www.tensorflow.org/api_guides/python/contrib.layers)，但是仍然可以使用 TensorFlow 的 [Neural Network](https://www.tensorflow.org/api_docs/python/tf/nn) 包。对于所有**其他层**，你依然可以使用快捷方法。\n"
   ]
  },
  {
   "cell_type": "code",
   "execution_count": 13,
   "metadata": {},
   "outputs": [
    {
     "name": "stdout",
     "output_type": "stream",
     "text": [
      "Tests Passed\n"
     ]
    }
   ],
   "source": [
    "def conv2d_maxpool(x_tensor, conv_num_outputs, conv_ksize, conv_strides, pool_ksize, pool_strides):\n",
    "    \"\"\"\n",
    "    Apply convolution then max pooling to x_tensor\n",
    "    :param x_tensor: TensorFlow Tensor\n",
    "    :param conv_num_outputs: Number of outputs for the convolutional layer\n",
    "    :param conv_ksize: kernal size 2-D Tuple for the convolutional layer\n",
    "    :param conv_strides: Stride 2-D Tuple for convolution\n",
    "    :param pool_ksize: kernal size 2-D Tuple for pool\n",
    "    :param pool_strides: Stride 2-D Tuple for pool\n",
    "    : return: A tensor that represents convolution and max pooling of x_tensor\n",
    "    \"\"\"\n",
    "    conv = tf.nn.conv2d(\n",
    "        x_tensor,\n",
    "        tf.Variable(tf.truncated_normal((*conv_ksize,int(x_tensor.shape[-1]),conv_num_outputs))),\n",
    "        #tf.placeholder(tf.float32, shape=(*conv_ksize,x_tensor.shape[-1],conv_num_outputs)),\n",
    "        [1,*conv_strides,1],\n",
    "        'VALID'\n",
    "    )\n",
    "    conv = tf.nn.bias_add(conv,tf.zeros(conv_num_outputs))\n",
    "    conv = tf.nn.relu(conv)\n",
    "    pool = tf.nn.max_pool(conv,[1,*pool_ksize,1],[1,*pool_strides,1],'VALID','NHWC')\n",
    "    return pool \n",
    "\n",
    "\n",
    "\"\"\"\n",
    "DON'T MODIFY ANYTHING IN THIS CELL THAT IS BELOW THIS LINE\n",
    "\"\"\"\n",
    "tests.test_con_pool(conv2d_maxpool)"
   ]
  },
  {
   "cell_type": "markdown",
   "metadata": {},
   "source": [
    "### 扁平化层\n",
    "\n",
    "实现 `flatten` 函数，将 `x_tensor` 的维度从四维张量（4-D tensor）变成二维张量。输出应该是形状（*部分大小（Batch Size）*，*扁平化图片大小（Flattened Image Size）*）。快捷方法：对于此层，你可以使用 [TensorFlow Layers](https://www.tensorflow.org/api_docs/python/tf/layers) 或 [TensorFlow Layers (contrib)](https://www.tensorflow.org/api_guides/python/contrib.layers) 包中的类。如果你想要更大挑战，可以仅使用其他 TensorFlow 程序包。\n"
   ]
  },
  {
   "cell_type": "code",
   "execution_count": 14,
   "metadata": {},
   "outputs": [
    {
     "name": "stdout",
     "output_type": "stream",
     "text": [
      "Tests Passed\n"
     ]
    }
   ],
   "source": [
    "def flatten(x_tensor):\n",
    "    \"\"\"\n",
    "    Flatten x_tensor to (Batch Size, Flattened Image Size)\n",
    "    : x_tensor: A tensor of size (Batch Size, ...), where ... are the image dimensions.\n",
    "    : return: A tensor of size (Batch Size, Flattened Image Size).\n",
    "    \"\"\"\n",
    "    # TODO: Implement Function\n",
    "    return tf.contrib.layers.flatten(x_tensor)\n",
    "\n",
    "\n",
    "\"\"\"\n",
    "DON'T MODIFY ANYTHING IN THIS CELL THAT IS BELOW THIS LINE\n",
    "\"\"\"\n",
    "tests.test_flatten(flatten)"
   ]
  },
  {
   "cell_type": "markdown",
   "metadata": {},
   "source": [
    "### 全连接层\n",
    "\n",
    "实现 `fully_conn` 函数，以向 `x_tensor` 应用完全连接的层级，形状为（*部分大小（Batch Size）*，*num_outputs*）。快捷方法：对于此层，你可以使用 [TensorFlow Layers](https://www.tensorflow.org/api_docs/python/tf/layers) 或 [TensorFlow Layers (contrib)](https://www.tensorflow.org/api_guides/python/contrib.layers) 包中的类。如果你想要更大挑战，可以仅使用其他 TensorFlow 程序包。"
   ]
  },
  {
   "cell_type": "code",
   "execution_count": 15,
   "metadata": {},
   "outputs": [
    {
     "name": "stdout",
     "output_type": "stream",
     "text": [
      "Tests Passed\n"
     ]
    }
   ],
   "source": [
    "def fully_conn(x_tensor, num_outputs):\n",
    "    \"\"\"\n",
    "    Apply a fully connected layer to x_tensor using weight and bias\n",
    "    : x_tensor: A 2-D tensor where the first dimension is batch size.\n",
    "    : num_outputs: The number of output that the new tensor should be.\n",
    "    : return: A 2-D tensor where the second dimension is num_outputs.\n",
    "    \"\"\"\n",
    "    # TODO: Implement Function\n",
    "    return tf.contrib.layers.fully_connected(x_tensor, num_outputs)\n",
    "\n",
    "\n",
    "\"\"\"\n",
    "DON'T MODIFY ANYTHING IN THIS CELL THAT IS BELOW THIS LINE\n",
    "\"\"\"\n",
    "tests.test_fully_conn(fully_conn)"
   ]
  },
  {
   "cell_type": "markdown",
   "metadata": {},
   "source": [
    "### 输出层\n",
    "\n",
    "实现 `output` 函数，向 x_tensor 应用完全连接的层级，形状为（*部分大小（Batch Size）*，*num_outputs*）。快捷方法：对于此层，你可以使用 [TensorFlow Layers](https://www.tensorflow.org/api_docs/python/tf/layers) 或 [TensorFlow Layers (contrib)](https://www.tensorflow.org/api_guides/python/contrib.layers) 包中的类。如果你想要更大挑战，可以仅使用其他 TensorFlow 程序包。\n",
    "\n",
    "**注意**：该层级不应应用 Activation、softmax 或交叉熵（cross entropy）。"
   ]
  },
  {
   "cell_type": "code",
   "execution_count": 11,
   "metadata": {},
   "outputs": [
    {
     "name": "stdout",
     "output_type": "stream",
     "text": [
      "Tests Passed\n"
     ]
    }
   ],
   "source": [
    "def output(x_tensor, num_outputs):\n",
    "    \"\"\"\n",
    "    Apply a output layer to x_tensor using weight and bias\n",
    "    : x_tensor: A 2-D tensor where the first dimension is batch size.\n",
    "    : num_outputs: The number of output that the new tensor should be.\n",
    "    : return: A 2-D tensor where the second dimension is num_outputs.\n",
    "    \"\"\"\n",
    "    # TODO: Implement Function\n",
    "    return tf.contrib.layers.fully_connected(x_tensor, num_outputs, activation_fn=None)\n",
    "\n",
    "\n",
    "\"\"\"\n",
    "DON'T MODIFY ANYTHING IN THIS CELL THAT IS BELOW THIS LINE\n",
    "\"\"\"\n",
    "tests.test_output(output)"
   ]
  },
  {
   "cell_type": "markdown",
   "metadata": {},
   "source": [
    "### 创建卷积模型\n",
    "\n",
    "实现函数 `conv_net`， 创建卷积神经网络模型。该函数传入一批图片 `x`，并输出对数（logits）。使用你在上方创建的层创建此模型：\n",
    "\n",
    "* 应用 1、2 或 3 个卷积和最大池化层（Convolution and Max Pool layers）\n",
    "* 应用一个扁平层（Flatten Layer）\n",
    "* 应用 1、2 或 3 个完全连接层（Fully Connected Layers）\n",
    "* 应用一个输出层（Output Layer）\n",
    "* 返回输出\n",
    "* 使用 `keep_prob` 向模型中的一个或多个层应用 [TensorFlow 的 Dropout](https://www.tensorflow.org/api_docs/python/tf/nn/dropout)"
   ]
  },
  {
   "cell_type": "code",
   "execution_count": 16,
   "metadata": {},
   "outputs": [
    {
     "name": "stdout",
     "output_type": "stream",
     "text": [
      "Neural Network Built!\n"
     ]
    }
   ],
   "source": [
    "def conv_net(x, keep_prob):\n",
    "    \"\"\"\n",
    "    Create a convolutional neural network model\n",
    "    : x: Placeholder tensor that holds image data.\n",
    "    : keep_prob: Placeholder tensor that hold dropout keep probability.\n",
    "    : return: Tensor that represents logits\n",
    "    \"\"\"\n",
    "    # TODO: Apply 1, 2, or 3 Convolution and Max Pool layers\n",
    "    #    Play around with different number of outputs, kernel size and stride\n",
    "    # Function Definition from Above:\n",
    "    #    conv2d_maxpool(x_tensor, conv_num_outputs, conv_ksize, conv_strides, pool_ksize, pool_strides)\n",
    "    x_tensor = tf.cast(normalize(x), tf.float32)\n",
    "    layer1 = conv2d_maxpool(x_tensor, 16, (3,3), (1,1), (2,2), (2,2))\n",
    "    layer2 = conv2d_maxpool(layer1, 32, (3,3), (1,1), (2,2), (2,2))\n",
    "\n",
    "    # TODO: Apply a Flatten Layer\n",
    "    # Function Definition from Above:\n",
    "    #   flatten(x_tensor)\n",
    "    flat_x = flatten(layer2)\n",
    "\n",
    "    # TODO: Apply 1, 2, or 3 Fully Connected Layers\n",
    "    #    Play around with different number of outputs\n",
    "    # Function Definition from Above:\n",
    "    #   fully_conn(x_tensor, num_outputs)\n",
    "    fc3 = fully_conn(flat_x, 256)\n",
    "    fc3 = tf.nn.dropout(fc3, keep_prob)\n",
    "    fc4 = fully_conn(fc3, 128)\n",
    "    fc4 = tf.nn.dropout(fc4, keep_prob)\n",
    "    \n",
    "    # TODO: Apply an Output Layer\n",
    "    #    Set this to the number of classes\n",
    "    # Function Definition from Above:\n",
    "    #   output(x_tensor, num_outputs)\n",
    "    \n",
    "    # TODO: return output\n",
    "    return output(fc4, 10)\n",
    "\n",
    "\n",
    "\"\"\"\n",
    "DON'T MODIFY ANYTHING IN THIS CELL THAT IS BELOW THIS LINE\n",
    "\"\"\"\n",
    "\n",
    "##############################\n",
    "## Build the Neural Network ##\n",
    "##############################\n",
    "\n",
    "# Remove previous weights, bias, inputs, etc..\n",
    "tf.reset_default_graph()\n",
    "\n",
    "# Inputs\n",
    "x = neural_net_image_input((32, 32, 3))\n",
    "y = neural_net_label_input(10)\n",
    "keep_prob = neural_net_keep_prob_input()\n",
    "\n",
    "# Model\n",
    "logits = conv_net(x, keep_prob)\n",
    "\n",
    "# Name logits Tensor, so that is can be loaded from disk after training\n",
    "logits = tf.identity(logits, name='logits')\n",
    "\n",
    "# Loss and Optimizer\n",
    "cost = tf.reduce_mean(tf.nn.softmax_cross_entropy_with_logits(logits=logits, labels=y))\n",
    "optimizer = tf.train.AdamOptimizer().minimize(cost)\n",
    "\n",
    "# Accuracy\n",
    "correct_pred = tf.equal(tf.argmax(logits, 1), tf.argmax(y, 1))\n",
    "accuracy = tf.reduce_mean(tf.cast(correct_pred, tf.float32), name='accuracy')\n",
    "\n",
    "tests.test_conv_net(conv_net)"
   ]
  },
  {
   "cell_type": "markdown",
   "metadata": {},
   "source": [
    "## 训练神经网络\n",
    "\n",
    "### 单次优化\n",
    "\n",
    "实现函数 `train_neural_network` 以进行单次优化（single optimization）。该优化应该使用 `optimizer` 优化 `session`，其中 `feed_dict` 具有以下参数：\n",
    "\n",
    "* `x` 表示图片输入\n",
    "* `y` 表示标签\n",
    "* `keep_prob` 表示丢弃的保留率\n",
    "\n",
    "每个部分都会调用该函数，所以 `tf.global_variables_initializer()` 已经被调用。\n",
    "\n",
    "注意：不需要返回任何内容。该函数只是用来优化神经网络。\n"
   ]
  },
  {
   "cell_type": "code",
   "execution_count": 17,
   "metadata": {},
   "outputs": [
    {
     "name": "stdout",
     "output_type": "stream",
     "text": [
      "Tests Passed\n"
     ]
    }
   ],
   "source": [
    "def train_neural_network(session, optimizer, keep_probability, feature_batch, label_batch):\n",
    "    \"\"\"\n",
    "    Optimize the session on a batch of images and labels\n",
    "    : session: Current TensorFlow session\n",
    "    : optimizer: TensorFlow optimizer function\n",
    "    : keep_probability: keep probability\n",
    "    : feature_batch: Batch of Numpy image data\n",
    "    : label_batch: Batch of Numpy label data\n",
    "    \"\"\"\n",
    "    # TODO: Implement Function\n",
    "    session.run(optimizer, feed_dict={x:feature_batch, y:label_batch, keep_prob:keep_probability})\n",
    "\n",
    "\n",
    "\"\"\"\n",
    "DON'T MODIFY ANYTHING IN THIS CELL THAT IS BELOW THIS LINE\n",
    "\"\"\"\n",
    "tests.test_train_nn(train_neural_network)"
   ]
  },
  {
   "cell_type": "markdown",
   "metadata": {},
   "source": [
    "### 显示数据\n",
    "\n",
    "实现函数 `print_stats` 以输出损失和验证准确率。使用全局变量 `valid_features` 和 `valid_labels` 计算验证准确率。使用保留率 `1.0` 计算损失和验证准确率（loss and validation accuracy）。\n"
   ]
  },
  {
   "cell_type": "code",
   "execution_count": 18,
   "metadata": {
    "collapsed": true
   },
   "outputs": [],
   "source": [
    "def print_stats(session, feature_batch, label_batch, cost, accuracy):\n",
    "    \"\"\"\n",
    "    Print information about loss and validation accuracy\n",
    "    : session: Current TensorFlow session\n",
    "    : feature_batch: Batch of Numpy image data\n",
    "    : label_batch: Batch of Numpy label data\n",
    "    : cost: TensorFlow cost function\n",
    "    : accuracy: TensorFlow accuracy function\n",
    "    \"\"\"\n",
    "    # TODO: Implement Function\n",
    "    valid_cost = session.run(cost, feed_dict={x:feature_batch,y:label_batch,keep_prob:1.0})\n",
    "    valid_accuacy = session.run(accuracy, feed_dict={x:valid_features,y:valid_labels,keep_prob:1.0})\n",
    "    print(\"cost is %s.  accuacy is %s\" % (valid_cost,valid_accuacy))"
   ]
  },
  {
   "cell_type": "markdown",
   "metadata": {},
   "source": [
    "### 超参数\n",
    "\n",
    "调试以下超参数：\n",
    "* 设置 `epochs` 表示神经网络停止学习或开始过拟合的迭代次数\n",
    "* 设置 `batch_size`，表示机器内存允许的部分最大体积。大部分人设为以下常见内存大小：\n",
    "\n",
    " * 64\n",
    " * 128\n",
    " * 256\n",
    " * ...\n",
    "* 设置 `keep_probability` 表示使用丢弃时保留节点的概率"
   ]
  },
  {
   "cell_type": "code",
   "execution_count": 19,
   "metadata": {
    "collapsed": true
   },
   "outputs": [],
   "source": [
    "# TODO: Tune Parameters\n",
    "epochs = 50\n",
    "batch_size = 256\n",
    "keep_probability = 0.5"
   ]
  },
  {
   "cell_type": "markdown",
   "metadata": {},
   "source": [
    "### 在单个 CIFAR-10 部分上训练\n",
    "\n",
    "我们先用单个部分，而不是用所有的 CIFAR-10 批次训练神经网络。这样可以节省时间，并对模型进行迭代，以提高准确率。最终验证准确率达到 50% 或以上之后，在下一部分对所有数据运行模型。\n"
   ]
  },
  {
   "cell_type": "code",
   "execution_count": 20,
   "metadata": {},
   "outputs": [
    {
     "name": "stdout",
     "output_type": "stream",
     "text": [
      "Checking the Training on a Single Batch...\n",
      "Epoch  1, CIFAR-10 Batch 1:  cost is 2.19836.  accuacy is 0.2186\n",
      "Epoch  2, CIFAR-10 Batch 1:  cost is 2.1242.  accuacy is 0.2736\n",
      "Epoch  3, CIFAR-10 Batch 1:  cost is 2.0344.  accuacy is 0.3352\n",
      "Epoch  4, CIFAR-10 Batch 1:  cost is 1.93923.  accuacy is 0.3654\n",
      "Epoch  5, CIFAR-10 Batch 1:  cost is 1.84383.  accuacy is 0.3894\n",
      "Epoch  6, CIFAR-10 Batch 1:  cost is 1.74383.  accuacy is 0.4064\n",
      "Epoch  7, CIFAR-10 Batch 1:  cost is 1.64538.  accuacy is 0.4158\n",
      "Epoch  8, CIFAR-10 Batch 1:  cost is 1.56623.  accuacy is 0.4328\n",
      "Epoch  9, CIFAR-10 Batch 1:  cost is 1.472.  accuacy is 0.435\n",
      "Epoch 10, CIFAR-10 Batch 1:  cost is 1.40961.  accuacy is 0.4544\n",
      "Epoch 11, CIFAR-10 Batch 1:  cost is 1.33215.  accuacy is 0.4616\n",
      "Epoch 12, CIFAR-10 Batch 1:  cost is 1.26301.  accuacy is 0.4696\n",
      "Epoch 13, CIFAR-10 Batch 1:  cost is 1.22622.  accuacy is 0.4726\n",
      "Epoch 14, CIFAR-10 Batch 1:  cost is 1.17456.  accuacy is 0.4816\n",
      "Epoch 15, CIFAR-10 Batch 1:  cost is 1.08304.  accuacy is 0.4906\n",
      "Epoch 16, CIFAR-10 Batch 1:  cost is 1.03082.  accuacy is 0.4864\n",
      "Epoch 17, CIFAR-10 Batch 1:  cost is 0.960864.  accuacy is 0.4892\n",
      "Epoch 18, CIFAR-10 Batch 1:  cost is 0.938327.  accuacy is 0.492\n",
      "Epoch 19, CIFAR-10 Batch 1:  cost is 0.875261.  accuacy is 0.506\n",
      "Epoch 20, CIFAR-10 Batch 1:  cost is 0.835324.  accuacy is 0.5022\n",
      "Epoch 21, CIFAR-10 Batch 1:  cost is 0.809963.  accuacy is 0.5036\n",
      "Epoch 22, CIFAR-10 Batch 1:  cost is 0.772901.  accuacy is 0.5106\n",
      "Epoch 23, CIFAR-10 Batch 1:  cost is 0.748369.  accuacy is 0.5174\n",
      "Epoch 24, CIFAR-10 Batch 1:  cost is 0.693839.  accuacy is 0.5122\n",
      "Epoch 25, CIFAR-10 Batch 1:  cost is 0.667389.  accuacy is 0.5204\n",
      "Epoch 26, CIFAR-10 Batch 1:  cost is 0.655963.  accuacy is 0.52\n",
      "Epoch 27, CIFAR-10 Batch 1:  cost is 0.644527.  accuacy is 0.5202\n",
      "Epoch 28, CIFAR-10 Batch 1:  cost is 0.612801.  accuacy is 0.525\n",
      "Epoch 29, CIFAR-10 Batch 1:  cost is 0.584238.  accuacy is 0.5278\n",
      "Epoch 30, CIFAR-10 Batch 1:  cost is 0.540995.  accuacy is 0.5344\n",
      "Epoch 31, CIFAR-10 Batch 1:  cost is 0.517441.  accuacy is 0.534\n",
      "Epoch 32, CIFAR-10 Batch 1:  cost is 0.509687.  accuacy is 0.5368\n",
      "Epoch 33, CIFAR-10 Batch 1:  cost is 0.492669.  accuacy is 0.53\n",
      "Epoch 34, CIFAR-10 Batch 1:  cost is 0.465786.  accuacy is 0.5412\n",
      "Epoch 35, CIFAR-10 Batch 1:  cost is 0.453058.  accuacy is 0.534\n",
      "Epoch 36, CIFAR-10 Batch 1:  cost is 0.438706.  accuacy is 0.544\n",
      "Epoch 37, CIFAR-10 Batch 1:  cost is 0.431912.  accuacy is 0.5424\n",
      "Epoch 38, CIFAR-10 Batch 1:  cost is 0.409692.  accuacy is 0.5414\n",
      "Epoch 39, CIFAR-10 Batch 1:  cost is 0.389929.  accuacy is 0.5464\n",
      "Epoch 40, CIFAR-10 Batch 1:  cost is 0.386493.  accuacy is 0.545\n",
      "Epoch 41, CIFAR-10 Batch 1:  cost is 0.358701.  accuacy is 0.5464\n",
      "Epoch 42, CIFAR-10 Batch 1:  cost is 0.348857.  accuacy is 0.5486\n",
      "Epoch 43, CIFAR-10 Batch 1:  cost is 0.327236.  accuacy is 0.5516\n",
      "Epoch 44, CIFAR-10 Batch 1:  cost is 0.336144.  accuacy is 0.5516\n",
      "Epoch 45, CIFAR-10 Batch 1:  cost is 0.312381.  accuacy is 0.555\n",
      "Epoch 46, CIFAR-10 Batch 1:  cost is 0.297857.  accuacy is 0.557\n",
      "Epoch 47, CIFAR-10 Batch 1:  cost is 0.287292.  accuacy is 0.5538\n",
      "Epoch 48, CIFAR-10 Batch 1:  cost is 0.281309.  accuacy is 0.5474\n",
      "Epoch 49, CIFAR-10 Batch 1:  cost is 0.287179.  accuacy is 0.5494\n",
      "Epoch 50, CIFAR-10 Batch 1:  cost is 0.249904.  accuacy is 0.5584\n"
     ]
    }
   ],
   "source": [
    "\"\"\"\n",
    "DON'T MODIFY ANYTHING IN THIS CELL\n",
    "\"\"\"\n",
    "print('Checking the Training on a Single Batch...')\n",
    "with tf.Session() as sess:\n",
    "    # Initializing the variables\n",
    "    sess.run(tf.global_variables_initializer())\n",
    "    \n",
    "    # Training cycle\n",
    "    for epoch in range(epochs):\n",
    "        batch_i = 1\n",
    "        for batch_features, batch_labels in helper.load_preprocess_training_batch(batch_i, batch_size):\n",
    "            train_neural_network(sess, optimizer, keep_probability, batch_features, batch_labels)\n",
    "        print('Epoch {:>2}, CIFAR-10 Batch {}:  '.format(epoch + 1, batch_i), end='')\n",
    "        print_stats(sess, batch_features, batch_labels, cost, accuracy)"
   ]
  },
  {
   "cell_type": "markdown",
   "metadata": {},
   "source": [
    "### 完全训练模型\n",
    "\n",
    "现在，单个 CIFAR-10 部分的准确率已经不错了，试试所有五个部分吧。"
   ]
  },
  {
   "cell_type": "code",
   "execution_count": 21,
   "metadata": {},
   "outputs": [
    {
     "name": "stdout",
     "output_type": "stream",
     "text": [
      "Training...\n",
      "Epoch  1, CIFAR-10 Batch 1:  cost is 2.26118.  accuacy is 0.2136\n",
      "Epoch  1, CIFAR-10 Batch 2:  cost is 2.12531.  accuacy is 0.2896\n",
      "Epoch  1, CIFAR-10 Batch 3:  cost is 1.8054.  accuacy is 0.3164\n",
      "Epoch  1, CIFAR-10 Batch 4:  cost is 1.83342.  accuacy is 0.3386\n",
      "Epoch  1, CIFAR-10 Batch 5:  cost is 1.78119.  accuacy is 0.36\n",
      "Epoch  2, CIFAR-10 Batch 1:  cost is 2.13975.  accuacy is 0.359\n",
      "Epoch  2, CIFAR-10 Batch 2:  cost is 1.83727.  accuacy is 0.3872\n",
      "Epoch  2, CIFAR-10 Batch 3:  cost is 1.54915.  accuacy is 0.396\n",
      "Epoch  2, CIFAR-10 Batch 4:  cost is 1.58657.  accuacy is 0.4042\n",
      "Epoch  2, CIFAR-10 Batch 5:  cost is 1.55714.  accuacy is 0.4118\n",
      "Epoch  3, CIFAR-10 Batch 1:  cost is 1.9103.  accuacy is 0.4232\n",
      "Epoch  3, CIFAR-10 Batch 2:  cost is 1.65329.  accuacy is 0.4362\n",
      "Epoch  3, CIFAR-10 Batch 3:  cost is 1.39183.  accuacy is 0.4362\n",
      "Epoch  3, CIFAR-10 Batch 4:  cost is 1.47658.  accuacy is 0.445\n",
      "Epoch  3, CIFAR-10 Batch 5:  cost is 1.36614.  accuacy is 0.4544\n",
      "Epoch  4, CIFAR-10 Batch 1:  cost is 1.7576.  accuacy is 0.4534\n",
      "Epoch  4, CIFAR-10 Batch 2:  cost is 1.53624.  accuacy is 0.4728\n",
      "Epoch  4, CIFAR-10 Batch 3:  cost is 1.22989.  accuacy is 0.476\n",
      "Epoch  4, CIFAR-10 Batch 4:  cost is 1.40349.  accuacy is 0.4832\n",
      "Epoch  4, CIFAR-10 Batch 5:  cost is 1.28773.  accuacy is 0.4892\n",
      "Epoch  5, CIFAR-10 Batch 1:  cost is 1.53448.  accuacy is 0.4988\n",
      "Epoch  5, CIFAR-10 Batch 2:  cost is 1.39581.  accuacy is 0.501\n",
      "Epoch  5, CIFAR-10 Batch 3:  cost is 1.1248.  accuacy is 0.5022\n",
      "Epoch  5, CIFAR-10 Batch 4:  cost is 1.32263.  accuacy is 0.5076\n",
      "Epoch  5, CIFAR-10 Batch 5:  cost is 1.19728.  accuacy is 0.499\n",
      "Epoch  6, CIFAR-10 Batch 1:  cost is 1.40914.  accuacy is 0.5184\n",
      "Epoch  6, CIFAR-10 Batch 2:  cost is 1.30957.  accuacy is 0.5184\n",
      "Epoch  6, CIFAR-10 Batch 3:  cost is 1.05271.  accuacy is 0.5132\n",
      "Epoch  6, CIFAR-10 Batch 4:  cost is 1.25176.  accuacy is 0.5242\n",
      "Epoch  6, CIFAR-10 Batch 5:  cost is 1.15852.  accuacy is 0.5208\n",
      "Epoch  7, CIFAR-10 Batch 1:  cost is 1.30023.  accuacy is 0.5308\n",
      "Epoch  7, CIFAR-10 Batch 2:  cost is 1.26772.  accuacy is 0.5308\n",
      "Epoch  7, CIFAR-10 Batch 3:  cost is 0.988645.  accuacy is 0.5288\n",
      "Epoch  7, CIFAR-10 Batch 4:  cost is 1.1607.  accuacy is 0.5326\n",
      "Epoch  7, CIFAR-10 Batch 5:  cost is 1.12313.  accuacy is 0.5298\n",
      "Epoch  8, CIFAR-10 Batch 1:  cost is 1.20923.  accuacy is 0.539\n",
      "Epoch  8, CIFAR-10 Batch 2:  cost is 1.16876.  accuacy is 0.5366\n",
      "Epoch  8, CIFAR-10 Batch 3:  cost is 0.933242.  accuacy is 0.5386\n",
      "Epoch  8, CIFAR-10 Batch 4:  cost is 1.13766.  accuacy is 0.5446\n",
      "Epoch  8, CIFAR-10 Batch 5:  cost is 1.0485.  accuacy is 0.5462\n",
      "Epoch  9, CIFAR-10 Batch 1:  cost is 1.12721.  accuacy is 0.5462\n",
      "Epoch  9, CIFAR-10 Batch 2:  cost is 1.13522.  accuacy is 0.5528\n",
      "Epoch  9, CIFAR-10 Batch 3:  cost is 0.887853.  accuacy is 0.5478\n",
      "Epoch  9, CIFAR-10 Batch 4:  cost is 1.09506.  accuacy is 0.5604\n",
      "Epoch  9, CIFAR-10 Batch 5:  cost is 1.00567.  accuacy is 0.5616\n",
      "Epoch 10, CIFAR-10 Batch 1:  cost is 1.09007.  accuacy is 0.5564\n",
      "Epoch 10, CIFAR-10 Batch 2:  cost is 1.07091.  accuacy is 0.5626\n",
      "Epoch 10, CIFAR-10 Batch 3:  cost is 0.874867.  accuacy is 0.5546\n",
      "Epoch 10, CIFAR-10 Batch 4:  cost is 1.0428.  accuacy is 0.5676\n",
      "Epoch 10, CIFAR-10 Batch 5:  cost is 0.982411.  accuacy is 0.562\n",
      "Epoch 11, CIFAR-10 Batch 1:  cost is 1.00186.  accuacy is 0.5642\n",
      "Epoch 11, CIFAR-10 Batch 2:  cost is 1.01227.  accuacy is 0.5734\n",
      "Epoch 11, CIFAR-10 Batch 3:  cost is 0.828535.  accuacy is 0.5622\n",
      "Epoch 11, CIFAR-10 Batch 4:  cost is 0.979929.  accuacy is 0.5692\n",
      "Epoch 11, CIFAR-10 Batch 5:  cost is 0.938498.  accuacy is 0.5706\n",
      "Epoch 12, CIFAR-10 Batch 1:  cost is 0.955536.  accuacy is 0.5648\n",
      "Epoch 12, CIFAR-10 Batch 2:  cost is 0.957698.  accuacy is 0.5758\n",
      "Epoch 12, CIFAR-10 Batch 3:  cost is 0.794215.  accuacy is 0.5694\n",
      "Epoch 12, CIFAR-10 Batch 4:  cost is 0.93722.  accuacy is 0.5772\n",
      "Epoch 12, CIFAR-10 Batch 5:  cost is 0.890878.  accuacy is 0.5738\n",
      "Epoch 13, CIFAR-10 Batch 1:  cost is 0.910501.  accuacy is 0.5782\n",
      "Epoch 13, CIFAR-10 Batch 2:  cost is 0.893163.  accuacy is 0.5746\n",
      "Epoch 13, CIFAR-10 Batch 3:  cost is 0.744145.  accuacy is 0.5792\n",
      "Epoch 13, CIFAR-10 Batch 4:  cost is 0.928634.  accuacy is 0.586\n",
      "Epoch 13, CIFAR-10 Batch 5:  cost is 0.846119.  accuacy is 0.5742\n",
      "Epoch 14, CIFAR-10 Batch 1:  cost is 0.881606.  accuacy is 0.582\n",
      "Epoch 14, CIFAR-10 Batch 2:  cost is 0.836467.  accuacy is 0.581\n",
      "Epoch 14, CIFAR-10 Batch 3:  cost is 0.719586.  accuacy is 0.5848\n",
      "Epoch 14, CIFAR-10 Batch 4:  cost is 0.860449.  accuacy is 0.59\n",
      "Epoch 14, CIFAR-10 Batch 5:  cost is 0.813338.  accuacy is 0.5854\n",
      "Epoch 15, CIFAR-10 Batch 1:  cost is 0.833055.  accuacy is 0.5862\n",
      "Epoch 15, CIFAR-10 Batch 2:  cost is 0.80003.  accuacy is 0.5868\n",
      "Epoch 15, CIFAR-10 Batch 3:  cost is 0.682987.  accuacy is 0.5916\n",
      "Epoch 15, CIFAR-10 Batch 4:  cost is 0.814876.  accuacy is 0.5894\n",
      "Epoch 15, CIFAR-10 Batch 5:  cost is 0.746108.  accuacy is 0.5892\n",
      "Epoch 16, CIFAR-10 Batch 1:  cost is 0.77539.  accuacy is 0.5922\n",
      "Epoch 16, CIFAR-10 Batch 2:  cost is 0.797963.  accuacy is 0.5972\n",
      "Epoch 16, CIFAR-10 Batch 3:  cost is 0.675336.  accuacy is 0.5982\n",
      "Epoch 16, CIFAR-10 Batch 4:  cost is 0.785711.  accuacy is 0.6024\n",
      "Epoch 16, CIFAR-10 Batch 5:  cost is 0.720471.  accuacy is 0.5932\n",
      "Epoch 17, CIFAR-10 Batch 1:  cost is 0.748557.  accuacy is 0.5948\n",
      "Epoch 17, CIFAR-10 Batch 2:  cost is 0.738275.  accuacy is 0.5874\n",
      "Epoch 17, CIFAR-10 Batch 3:  cost is 0.637853.  accuacy is 0.6024\n",
      "Epoch 17, CIFAR-10 Batch 4:  cost is 0.754098.  accuacy is 0.6046\n",
      "Epoch 17, CIFAR-10 Batch 5:  cost is 0.689249.  accuacy is 0.598\n",
      "Epoch 18, CIFAR-10 Batch 1:  cost is 0.705389.  accuacy is 0.6018\n",
      "Epoch 18, CIFAR-10 Batch 2:  cost is 0.686504.  accuacy is 0.5902\n",
      "Epoch 18, CIFAR-10 Batch 3:  cost is 0.624778.  accuacy is 0.5998\n",
      "Epoch 18, CIFAR-10 Batch 4:  cost is 0.711636.  accuacy is 0.599\n",
      "Epoch 18, CIFAR-10 Batch 5:  cost is 0.643968.  accuacy is 0.6008\n",
      "Epoch 19, CIFAR-10 Batch 1:  cost is 0.688133.  accuacy is 0.6038\n",
      "Epoch 19, CIFAR-10 Batch 2:  cost is 0.64853.  accuacy is 0.5868\n",
      "Epoch 19, CIFAR-10 Batch 3:  cost is 0.604783.  accuacy is 0.6012\n",
      "Epoch 19, CIFAR-10 Batch 4:  cost is 0.67693.  accuacy is 0.6068\n",
      "Epoch 19, CIFAR-10 Batch 5:  cost is 0.642086.  accuacy is 0.6012\n",
      "Epoch 20, CIFAR-10 Batch 1:  cost is 0.656169.  accuacy is 0.6042\n",
      "Epoch 20, CIFAR-10 Batch 2:  cost is 0.605963.  accuacy is 0.5954\n",
      "Epoch 20, CIFAR-10 Batch 3:  cost is 0.573975.  accuacy is 0.6064\n",
      "Epoch 20, CIFAR-10 Batch 4:  cost is 0.629104.  accuacy is 0.6064\n",
      "Epoch 20, CIFAR-10 Batch 5:  cost is 0.595944.  accuacy is 0.6102\n",
      "Epoch 21, CIFAR-10 Batch 1:  cost is 0.612508.  accuacy is 0.6096\n",
      "Epoch 21, CIFAR-10 Batch 2:  cost is 0.584176.  accuacy is 0.604\n",
      "Epoch 21, CIFAR-10 Batch 3:  cost is 0.535094.  accuacy is 0.6062\n",
      "Epoch 21, CIFAR-10 Batch 4:  cost is 0.602879.  accuacy is 0.6042\n",
      "Epoch 21, CIFAR-10 Batch 5:  cost is 0.584233.  accuacy is 0.6076\n",
      "Epoch 22, CIFAR-10 Batch 1:  cost is 0.601169.  accuacy is 0.6112\n",
      "Epoch 22, CIFAR-10 Batch 2:  cost is 0.575774.  accuacy is 0.601\n",
      "Epoch 22, CIFAR-10 Batch 3:  cost is 0.526507.  accuacy is 0.616\n",
      "Epoch 22, CIFAR-10 Batch 4:  cost is 0.579434.  accuacy is 0.606\n",
      "Epoch 22, CIFAR-10 Batch 5:  cost is 0.554908.  accuacy is 0.6148\n",
      "Epoch 23, CIFAR-10 Batch 1:  cost is 0.586137.  accuacy is 0.61\n",
      "Epoch 23, CIFAR-10 Batch 2:  cost is 0.559525.  accuacy is 0.6066\n",
      "Epoch 23, CIFAR-10 Batch 3:  cost is 0.499194.  accuacy is 0.61\n",
      "Epoch 23, CIFAR-10 Batch 4:  cost is 0.529164.  accuacy is 0.6098\n",
      "Epoch 23, CIFAR-10 Batch 5:  cost is 0.528069.  accuacy is 0.6196\n",
      "Epoch 24, CIFAR-10 Batch 1:  cost is 0.578198.  accuacy is 0.6096\n",
      "Epoch 24, CIFAR-10 Batch 2:  cost is 0.530372.  accuacy is 0.6116\n",
      "Epoch 24, CIFAR-10 Batch 3:  cost is 0.476815.  accuacy is 0.6184\n",
      "Epoch 24, CIFAR-10 Batch 4:  cost is 0.532573.  accuacy is 0.611\n",
      "Epoch 24, CIFAR-10 Batch 5:  cost is 0.526869.  accuacy is 0.6214\n",
      "Epoch 25, CIFAR-10 Batch 1:  cost is 0.56901.  accuacy is 0.618\n",
      "Epoch 25, CIFAR-10 Batch 2:  cost is 0.52864.  accuacy is 0.617\n",
      "Epoch 25, CIFAR-10 Batch 3:  cost is 0.459078.  accuacy is 0.6256\n",
      "Epoch 25, CIFAR-10 Batch 4:  cost is 0.507711.  accuacy is 0.6204\n",
      "Epoch 25, CIFAR-10 Batch 5:  cost is 0.498519.  accuacy is 0.6264\n"
     ]
    },
    {
     "name": "stdout",
     "output_type": "stream",
     "text": [
      "Epoch 26, CIFAR-10 Batch 1:  cost is 0.545818.  accuacy is 0.621\n",
      "Epoch 26, CIFAR-10 Batch 2:  cost is 0.473842.  accuacy is 0.6238\n",
      "Epoch 26, CIFAR-10 Batch 3:  cost is 0.453496.  accuacy is 0.6192\n",
      "Epoch 26, CIFAR-10 Batch 4:  cost is 0.483731.  accuacy is 0.6224\n",
      "Epoch 26, CIFAR-10 Batch 5:  cost is 0.47036.  accuacy is 0.6278\n",
      "Epoch 27, CIFAR-10 Batch 1:  cost is 0.532662.  accuacy is 0.6242\n",
      "Epoch 27, CIFAR-10 Batch 2:  cost is 0.46712.  accuacy is 0.6258\n",
      "Epoch 27, CIFAR-10 Batch 3:  cost is 0.435604.  accuacy is 0.6236\n",
      "Epoch 27, CIFAR-10 Batch 4:  cost is 0.475002.  accuacy is 0.6218\n",
      "Epoch 27, CIFAR-10 Batch 5:  cost is 0.450917.  accuacy is 0.6306\n",
      "Epoch 28, CIFAR-10 Batch 1:  cost is 0.503903.  accuacy is 0.6218\n",
      "Epoch 28, CIFAR-10 Batch 2:  cost is 0.453453.  accuacy is 0.6258\n",
      "Epoch 28, CIFAR-10 Batch 3:  cost is 0.39857.  accuacy is 0.6198\n",
      "Epoch 28, CIFAR-10 Batch 4:  cost is 0.451326.  accuacy is 0.6178\n",
      "Epoch 28, CIFAR-10 Batch 5:  cost is 0.461535.  accuacy is 0.6304\n",
      "Epoch 29, CIFAR-10 Batch 1:  cost is 0.494831.  accuacy is 0.627\n",
      "Epoch 29, CIFAR-10 Batch 2:  cost is 0.423464.  accuacy is 0.6294\n",
      "Epoch 29, CIFAR-10 Batch 3:  cost is 0.389686.  accuacy is 0.629\n",
      "Epoch 29, CIFAR-10 Batch 4:  cost is 0.444744.  accuacy is 0.6304\n",
      "Epoch 29, CIFAR-10 Batch 5:  cost is 0.417642.  accuacy is 0.6312\n",
      "Epoch 30, CIFAR-10 Batch 1:  cost is 0.465015.  accuacy is 0.6236\n",
      "Epoch 30, CIFAR-10 Batch 2:  cost is 0.415008.  accuacy is 0.634\n",
      "Epoch 30, CIFAR-10 Batch 3:  cost is 0.389152.  accuacy is 0.6236\n",
      "Epoch 30, CIFAR-10 Batch 4:  cost is 0.410265.  accuacy is 0.6258\n",
      "Epoch 30, CIFAR-10 Batch 5:  cost is 0.418456.  accuacy is 0.6348\n",
      "Epoch 31, CIFAR-10 Batch 1:  cost is 0.453054.  accuacy is 0.6318\n",
      "Epoch 31, CIFAR-10 Batch 2:  cost is 0.404882.  accuacy is 0.632\n",
      "Epoch 31, CIFAR-10 Batch 3:  cost is 0.377697.  accuacy is 0.6308\n",
      "Epoch 31, CIFAR-10 Batch 4:  cost is 0.399652.  accuacy is 0.6196\n",
      "Epoch 31, CIFAR-10 Batch 5:  cost is 0.39698.  accuacy is 0.636\n",
      "Epoch 32, CIFAR-10 Batch 1:  cost is 0.441899.  accuacy is 0.6302\n",
      "Epoch 32, CIFAR-10 Batch 2:  cost is 0.400623.  accuacy is 0.6274\n",
      "Epoch 32, CIFAR-10 Batch 3:  cost is 0.353701.  accuacy is 0.6368\n",
      "Epoch 32, CIFAR-10 Batch 4:  cost is 0.383135.  accuacy is 0.6256\n",
      "Epoch 32, CIFAR-10 Batch 5:  cost is 0.38713.  accuacy is 0.6364\n",
      "Epoch 33, CIFAR-10 Batch 1:  cost is 0.438104.  accuacy is 0.6318\n",
      "Epoch 33, CIFAR-10 Batch 2:  cost is 0.368389.  accuacy is 0.6362\n",
      "Epoch 33, CIFAR-10 Batch 3:  cost is 0.335491.  accuacy is 0.6338\n",
      "Epoch 33, CIFAR-10 Batch 4:  cost is 0.387009.  accuacy is 0.6292\n",
      "Epoch 33, CIFAR-10 Batch 5:  cost is 0.369064.  accuacy is 0.6364\n",
      "Epoch 34, CIFAR-10 Batch 1:  cost is 0.439481.  accuacy is 0.632\n",
      "Epoch 34, CIFAR-10 Batch 2:  cost is 0.377467.  accuacy is 0.6346\n",
      "Epoch 34, CIFAR-10 Batch 3:  cost is 0.338847.  accuacy is 0.6368\n",
      "Epoch 34, CIFAR-10 Batch 4:  cost is 0.377325.  accuacy is 0.6306\n",
      "Epoch 34, CIFAR-10 Batch 5:  cost is 0.358684.  accuacy is 0.6376\n",
      "Epoch 35, CIFAR-10 Batch 1:  cost is 0.432892.  accuacy is 0.6368\n",
      "Epoch 35, CIFAR-10 Batch 2:  cost is 0.328313.  accuacy is 0.6406\n",
      "Epoch 35, CIFAR-10 Batch 3:  cost is 0.319432.  accuacy is 0.6386\n",
      "Epoch 35, CIFAR-10 Batch 4:  cost is 0.362958.  accuacy is 0.6276\n",
      "Epoch 35, CIFAR-10 Batch 5:  cost is 0.340776.  accuacy is 0.6396\n",
      "Epoch 36, CIFAR-10 Batch 1:  cost is 0.401433.  accuacy is 0.6364\n",
      "Epoch 36, CIFAR-10 Batch 2:  cost is 0.329696.  accuacy is 0.638\n",
      "Epoch 36, CIFAR-10 Batch 3:  cost is 0.309612.  accuacy is 0.6354\n",
      "Epoch 36, CIFAR-10 Batch 4:  cost is 0.328356.  accuacy is 0.6322\n",
      "Epoch 36, CIFAR-10 Batch 5:  cost is 0.323843.  accuacy is 0.641\n",
      "Epoch 37, CIFAR-10 Batch 1:  cost is 0.379344.  accuacy is 0.6394\n",
      "Epoch 37, CIFAR-10 Batch 2:  cost is 0.313186.  accuacy is 0.6408\n",
      "Epoch 37, CIFAR-10 Batch 3:  cost is 0.307646.  accuacy is 0.6394\n",
      "Epoch 37, CIFAR-10 Batch 4:  cost is 0.318917.  accuacy is 0.6398\n",
      "Epoch 37, CIFAR-10 Batch 5:  cost is 0.320329.  accuacy is 0.6402\n",
      "Epoch 38, CIFAR-10 Batch 1:  cost is 0.36812.  accuacy is 0.6426\n",
      "Epoch 38, CIFAR-10 Batch 2:  cost is 0.302387.  accuacy is 0.6382\n",
      "Epoch 38, CIFAR-10 Batch 3:  cost is 0.310548.  accuacy is 0.6404\n",
      "Epoch 38, CIFAR-10 Batch 4:  cost is 0.306061.  accuacy is 0.635\n",
      "Epoch 38, CIFAR-10 Batch 5:  cost is 0.306911.  accuacy is 0.6444\n",
      "Epoch 39, CIFAR-10 Batch 1:  cost is 0.38209.  accuacy is 0.6464\n",
      "Epoch 39, CIFAR-10 Batch 2:  cost is 0.291311.  accuacy is 0.6398\n",
      "Epoch 39, CIFAR-10 Batch 3:  cost is 0.292196.  accuacy is 0.6474\n",
      "Epoch 39, CIFAR-10 Batch 4:  cost is 0.300849.  accuacy is 0.6372\n",
      "Epoch 39, CIFAR-10 Batch 5:  cost is 0.300491.  accuacy is 0.643\n",
      "Epoch 40, CIFAR-10 Batch 1:  cost is 0.370818.  accuacy is 0.6426\n",
      "Epoch 40, CIFAR-10 Batch 2:  cost is 0.287097.  accuacy is 0.642\n",
      "Epoch 40, CIFAR-10 Batch 3:  cost is 0.287095.  accuacy is 0.6442\n",
      "Epoch 40, CIFAR-10 Batch 4:  cost is 0.290164.  accuacy is 0.6392\n",
      "Epoch 40, CIFAR-10 Batch 5:  cost is 0.289811.  accuacy is 0.6408\n",
      "Epoch 41, CIFAR-10 Batch 1:  cost is 0.362697.  accuacy is 0.6396\n",
      "Epoch 41, CIFAR-10 Batch 2:  cost is 0.28248.  accuacy is 0.6506\n",
      "Epoch 41, CIFAR-10 Batch 3:  cost is 0.272951.  accuacy is 0.6436\n",
      "Epoch 41, CIFAR-10 Batch 4:  cost is 0.291934.  accuacy is 0.6434\n",
      "Epoch 41, CIFAR-10 Batch 5:  cost is 0.270697.  accuacy is 0.6482\n",
      "Epoch 42, CIFAR-10 Batch 1:  cost is 0.348626.  accuacy is 0.64\n",
      "Epoch 42, CIFAR-10 Batch 2:  cost is 0.278767.  accuacy is 0.6452\n",
      "Epoch 42, CIFAR-10 Batch 3:  cost is 0.272902.  accuacy is 0.6534\n",
      "Epoch 42, CIFAR-10 Batch 4:  cost is 0.296003.  accuacy is 0.639\n",
      "Epoch 42, CIFAR-10 Batch 5:  cost is 0.256428.  accuacy is 0.6438\n",
      "Epoch 43, CIFAR-10 Batch 1:  cost is 0.324411.  accuacy is 0.6458\n",
      "Epoch 43, CIFAR-10 Batch 2:  cost is 0.253759.  accuacy is 0.6448\n",
      "Epoch 43, CIFAR-10 Batch 3:  cost is 0.257168.  accuacy is 0.645\n",
      "Epoch 43, CIFAR-10 Batch 4:  cost is 0.276242.  accuacy is 0.6392\n",
      "Epoch 43, CIFAR-10 Batch 5:  cost is 0.252895.  accuacy is 0.6418\n",
      "Epoch 44, CIFAR-10 Batch 1:  cost is 0.321232.  accuacy is 0.6466\n",
      "Epoch 44, CIFAR-10 Batch 2:  cost is 0.254175.  accuacy is 0.642\n",
      "Epoch 44, CIFAR-10 Batch 3:  cost is 0.250246.  accuacy is 0.6484\n",
      "Epoch 44, CIFAR-10 Batch 4:  cost is 0.26656.  accuacy is 0.6494\n",
      "Epoch 44, CIFAR-10 Batch 5:  cost is 0.250667.  accuacy is 0.6484\n",
      "Epoch 45, CIFAR-10 Batch 1:  cost is 0.32148.  accuacy is 0.6422\n",
      "Epoch 45, CIFAR-10 Batch 2:  cost is 0.261264.  accuacy is 0.6418\n",
      "Epoch 45, CIFAR-10 Batch 3:  cost is 0.251007.  accuacy is 0.6454\n",
      "Epoch 45, CIFAR-10 Batch 4:  cost is 0.257362.  accuacy is 0.6366\n",
      "Epoch 45, CIFAR-10 Batch 5:  cost is 0.246991.  accuacy is 0.6444\n",
      "Epoch 46, CIFAR-10 Batch 1:  cost is 0.305704.  accuacy is 0.645\n",
      "Epoch 46, CIFAR-10 Batch 2:  cost is 0.247245.  accuacy is 0.6452\n",
      "Epoch 46, CIFAR-10 Batch 3:  cost is 0.236782.  accuacy is 0.6484\n",
      "Epoch 46, CIFAR-10 Batch 4:  cost is 0.256492.  accuacy is 0.6414\n",
      "Epoch 46, CIFAR-10 Batch 5:  cost is 0.236126.  accuacy is 0.6512\n",
      "Epoch 47, CIFAR-10 Batch 1:  cost is 0.284399.  accuacy is 0.6496\n",
      "Epoch 47, CIFAR-10 Batch 2:  cost is 0.238349.  accuacy is 0.648\n",
      "Epoch 47, CIFAR-10 Batch 3:  cost is 0.22299.  accuacy is 0.649\n",
      "Epoch 47, CIFAR-10 Batch 4:  cost is 0.240826.  accuacy is 0.6452\n",
      "Epoch 47, CIFAR-10 Batch 5:  cost is 0.215555.  accuacy is 0.652\n",
      "Epoch 48, CIFAR-10 Batch 1:  cost is 0.28197.  accuacy is 0.649\n",
      "Epoch 48, CIFAR-10 Batch 2:  cost is 0.225805.  accuacy is 0.6492\n",
      "Epoch 48, CIFAR-10 Batch 3:  cost is 0.237719.  accuacy is 0.649\n",
      "Epoch 48, CIFAR-10 Batch 4:  cost is 0.243048.  accuacy is 0.6462\n",
      "Epoch 48, CIFAR-10 Batch 5:  cost is 0.220091.  accuacy is 0.6466\n",
      "Epoch 49, CIFAR-10 Batch 1:  cost is 0.295316.  accuacy is 0.6448\n",
      "Epoch 49, CIFAR-10 Batch 2:  cost is 0.210689.  accuacy is 0.651\n",
      "Epoch 49, CIFAR-10 Batch 3:  cost is 0.230576.  accuacy is 0.6482\n",
      "Epoch 49, CIFAR-10 Batch 4:  cost is 0.23315.  accuacy is 0.6438\n",
      "Epoch 49, CIFAR-10 Batch 5:  cost is 0.222219.  accuacy is 0.648\n",
      "Epoch 50, CIFAR-10 Batch 1:  cost is 0.285426.  accuacy is 0.6514\n",
      "Epoch 50, CIFAR-10 Batch 2:  cost is 0.21136.  accuacy is 0.6456\n",
      "Epoch 50, CIFAR-10 Batch 3:  cost is 0.205195.  accuacy is 0.6492\n",
      "Epoch 50, CIFAR-10 Batch 4:  cost is 0.246643.  accuacy is 0.6376\n",
      "Epoch 50, CIFAR-10 Batch 5:  cost is 0.218933.  accuacy is 0.6486\n"
     ]
    }
   ],
   "source": [
    "\"\"\"\n",
    "DON'T MODIFY ANYTHING IN THIS CELL\n",
    "\"\"\"\n",
    "save_model_path = './image_classification'\n",
    "\n",
    "print('Training...')\n",
    "with tf.Session() as sess:\n",
    "    # Initializing the variables\n",
    "    sess.run(tf.global_variables_initializer())\n",
    "    \n",
    "    # Training cycle\n",
    "    for epoch in range(epochs):\n",
    "        # Loop over all batches\n",
    "        n_batches = 5\n",
    "        for batch_i in range(1, n_batches + 1):\n",
    "            for batch_features, batch_labels in helper.load_preprocess_training_batch(batch_i, batch_size):\n",
    "                train_neural_network(sess, optimizer, keep_probability, batch_features, batch_labels)\n",
    "            print('Epoch {:>2}, CIFAR-10 Batch {}:  '.format(epoch + 1, batch_i), end='')\n",
    "            print_stats(sess, batch_features, batch_labels, cost, accuracy)\n",
    "            \n",
    "    # Save Model\n",
    "    saver = tf.train.Saver()\n",
    "    save_path = saver.save(sess, save_model_path)"
   ]
  },
  {
   "cell_type": "markdown",
   "metadata": {},
   "source": [
    "# 检查点\n",
    "\n",
    "模型已保存到本地。\n",
    "\n",
    "## 测试模型\n",
    "\n",
    "利用测试数据集测试你的模型。这将是最终的准确率。你的准确率应该高于 50%。如果没达到，请继续调整模型结构和参数。"
   ]
  },
  {
   "cell_type": "code",
   "execution_count": 22,
   "metadata": {},
   "outputs": [
    {
     "name": "stdout",
     "output_type": "stream",
     "text": [
      "INFO:tensorflow:Restoring parameters from ./image_classification\n",
      "Testing Accuracy: 0.6521484375\n",
      "\n"
     ]
    },
    {
     "data": {
      "image/png": "[encoded data removed]",
      "text/plain": [
       "<matplotlib.figure.Figure at 0x1237ea1d0>"
      ]
     },
     "metadata": {
      "image/png": {
       "height": 319,
       "width": 355
      }
     },
     "output_type": "display_data"
    }
   ],
   "source": [
    "\"\"\"\n",
    "DON'T MODIFY ANYTHING IN THIS CELL\n",
    "\"\"\"\n",
    "%matplotlib inline\n",
    "%config InlineBackend.figure_format = 'retina'\n",
    "\n",
    "import tensorflow as tf\n",
    "import pickle\n",
    "import helper\n",
    "import random\n",
    "\n",
    "# Set batch size if not already set\n",
    "try:\n",
    "    if batch_size:\n",
    "        pass\n",
    "except NameError:\n",
    "    batch_size = 64\n",
    "\n",
    "save_model_path = './image_classification'\n",
    "n_samples = 4\n",
    "top_n_predictions = 3\n",
    "\n",
    "def test_model():\n",
    "    \"\"\"\n",
    "    Test the saved model against the test dataset\n",
    "    \"\"\"\n",
    "\n",
    "    test_features, test_labels = pickle.load(open('preprocess_test.p', mode='rb'))\n",
    "    loaded_graph = tf.Graph()\n",
    "\n",
    "    with tf.Session(graph=loaded_graph) as sess:\n",
    "        # Load model\n",
    "        loader = tf.train.import_meta_graph(save_model_path + '.meta')\n",
    "        loader.restore(sess, save_model_path)\n",
    "\n",
    "        # Get Tensors from loaded model\n",
    "        loaded_x = loaded_graph.get_tensor_by_name('x:0')\n",
    "        loaded_y = loaded_graph.get_tensor_by_name('y:0')\n",
    "        loaded_keep_prob = loaded_graph.get_tensor_by_name('keep_prob:0')\n",
    "        loaded_logits = loaded_graph.get_tensor_by_name('logits:0')\n",
    "        loaded_acc = loaded_graph.get_tensor_by_name('accuracy:0')\n",
    "        \n",
    "        # Get accuracy in batches for memory limitations\n",
    "        test_batch_acc_total = 0\n",
    "        test_batch_count = 0\n",
    "        \n",
    "        for test_feature_batch, test_label_batch in helper.batch_features_labels(test_features, test_labels, batch_size):\n",
    "            test_batch_acc_total += sess.run(\n",
    "                loaded_acc,\n",
    "                feed_dict={loaded_x: test_feature_batch, loaded_y: test_label_batch, loaded_keep_prob: 1.0})\n",
    "            test_batch_count += 1\n",
    "\n",
    "        print('Testing Accuracy: {}\\n'.format(test_batch_acc_total/test_batch_count))\n",
    "\n",
    "        # Print Random Samples\n",
    "        random_test_features, random_test_labels = tuple(zip(*random.sample(list(zip(test_features, test_labels)), n_samples)))\n",
    "        random_test_predictions = sess.run(\n",
    "            tf.nn.top_k(tf.nn.softmax(loaded_logits), top_n_predictions),\n",
    "            feed_dict={loaded_x: random_test_features, loaded_y: random_test_labels, loaded_keep_prob: 1.0})\n",
    "        helper.display_image_predictions(random_test_features, random_test_labels, random_test_predictions)\n",
    "\n",
    "\n",
    "test_model()"
   ]
  },
  {
   "cell_type": "markdown",
   "metadata": {},
   "source": [
    "## 为何准确率只有50-80%？\n",
    "\n",
    "你可能想问，为何准确率不能更高了？首先，对于简单的 CNN 网络来说，50% 已经不低了。纯粹猜测的准确率为10%。但是，你可能注意到有人的准确率[远远超过 80%](http://rodrigob.github.io/are_we_there_yet/build/classification_datasets_results.html#43494641522d3130)。这是因为我们还没有介绍所有的神经网络知识。我们还需要掌握一些其他技巧。\n",
    "\n",
    "## 提交项目\n",
    "\n",
    "提交项目时，确保先运行所有单元，然后再保存记事本。将 notebook 文件另存为“dlnd_image_classification.ipynb”，再在目录 \"File\" -> \"Download as\" 另存为 HTML 格式。请在提交的项目中包含 “helper.py” 和 “problem_unittests.py” 文件。\n"
   ]
  }
 ],
 "metadata": {
  "kernelspec": {
   "display_name": "Python 3",
   "language": "python",
   "name": "python3"
  },
  "language_info": {
   "codemirror_mode": {
    "name": "ipython",
    "version": 3
   },
   "file_extension": ".py",
   "mimetype": "text/x-python",
   "name": "python",
   "nbconvert_exporter": "python",
   "pygments_lexer": "ipython3",
   "version": "3.6.2"
  }
 },
 "nbformat": 4,
 "nbformat_minor": 1
}
